{
 "cells": [
  {
   "cell_type": "markdown",
   "id": "934846a2-cf16-4335-bd06-c7e4c498eee8",
   "metadata": {},
   "source": [
    "# Module 1 - GitHub, JLab, Python, Good Habits\n",
    "\n",
    "_My suggested use for this file is as an extra tab you keep open on the right side of your JupyterLab screen, and treat it like a notepad you'd use in a classroom. The left half of the screen will be good for files that have involved coding that should be stand alone files._\n",
    "\n",
    "## Skills to learn in this Module \n",
    "\n",
    "You can find the tasks for this module [on the dashboard page]. \n",
    "\n",
    "Note: You can use this as a checklist if you want. Just put an \"x\" in the brackets, like `[x]`:\n",
    "- [x] See? All done!\n",
    "\n",
    "Below are the skills I want you to learn in this module in _roughly_ the order we will cover them\n",
    "- [ ] GitHub skills \n",
    "    - [ ] create a own repo on GitHub (start a project) \n",
    "    - [ ] clone a repo off GitHub to our computers (get ready to work on it) \n",
    "    - [ ] **work on that repo on our computer and sync it to GitHub, using the** [**GitHub Workflow - fetch, commit, push**](03a_githubworkflow)  \n",
    "    - [ ] use the classmates team page\n",
    "    - [ ] open an issue in a repo to get help  \n",
    "    - [ ] know what a good `README` file does and can look like - [I _personally_ like this one](https://GitHub.com/donbowen/BFH) but take a quick look at [this  list of awesome readmes](https://GitHub.com/matiassingers/awesome-readme) for inspiration \n",
    "    - [ ] [know what the `.gitignore` file in our repos is and how/why to use it ](09_gitignore) \n",
    "- [ ] Jupyter lab skills \n",
    "    - [ ] write nicely formatted text in Markdown\n",
    "    - [ ] switch cells from code to markdown and back\n",
    "    - [ ] write and execute code \n",
    "    - [ ] Using shift tab and help resources (1.6.2)\n",
    "    - [ ] get used to using keyboard shortcuts (Chapter 1.6.3)    \n",
    "- [ ] Python skills \n",
    "    - [ ] Work through 1.7 before trying Assignment 1, including the exercises\n",
    "    - [ ] Know the main object types: ints, booleans, floats, lists, strings, and dictionaries\n",
    "    - [ ] Accessing elements within a list and string  \n",
    "    - [ ] Calling functions on objects via the dot syntax  \n",
    "    - [ ] Using documentation to understand how to use a function (pick one function, look up documentation)\n",
    "    - [ ] Possibly: Print out a [good python cheatsheet](https://ledatascifi.github.io/ledatascifi-2023/content/about/resources.html) to keep on your desk (backup: revisit Chapter 1.7!)\n"
   ]
  },
  {
   "cell_type": "markdown",
   "id": "92c622e7-94fc-42fb-8d60-3eb070be5b07",
   "metadata": {},
   "source": [
    "## GitHub Lessons"
   ]
  },
  {
   "cell_type": "markdown",
   "id": "88569d7e-97e5-4bcf-bdaa-40984180d051",
   "metadata": {},
   "source": [
    "the block below is just me getting you started..."
   ]
  },
  {
   "cell_type": "markdown",
   "id": "3392bd3e-2a77-4456-b549-8517b21a8686",
   "metadata": {},
   "source": [
    "- Before and after each class, fetch the ledatascifi-2023 repo to get the latest slides and exercises. \n",
    "    - Note: Don't modify any files in this repo! Copy exercises files OUT of the folder to work on them.\n",
    "- When you start work on assignments (every day)\n",
    "    1. **Fetch** the repo in GH-D\n",
    "    1. Every once in a while: Save files you're working on in whatever program you're using, then go to GH-D and tell GH-D to save the changes by **\"commit\"** ing them there. \n",
    "    1. **Push** the commit so that your work is backed up. (I do this right after every commit because it's easy.)\n",
    "- When you take notes - do the same!\n",
    "    1. **Fetch** the repo in GH-D\n",
    "    1. Every once in a while: Save files you're working on in whatever program you're using, then go to GH-D and tell GH-D to save the changes by **\"commit\"** ing them there. \n",
    "    1. **Push** the commit so that your work is backed up. (I do this right after every commit because it's easy.)    "
   ]
  },
  {
   "cell_type": "code",
   "execution_count": 1,
   "id": "d3e1097f-12f7-4860-8b07-d0050800e0f3",
   "metadata": {},
   "outputs": [],
   "source": [
    "# you can add more\n",
    "# github notes\n",
    "# here"
   ]
  },
  {
   "cell_type": "markdown",
   "id": "57aade34-b0f7-40ec-b761-7d11dc493f9f",
   "metadata": {},
   "source": [
    "## Jupyter Lab Notes"
   ]
  },
  {
   "cell_type": "markdown",
   "id": "0e931413-2b2c-4b69-a01d-0a11120c1a54",
   "metadata": {},
   "source": [
    "- CTRL+SHIFT+C: opens up a JLab search bar\n",
    "- keyboard shortcuts are useful to learn!\n",
    "- ESC exits edit mode, so I can alter the document structure\n",
    "- ENTER enters edit mode\n",
    "- CTRL+ENTER executes cell (run py, or fmts markdown) and moves to next cell\n",
    "- SHIFT+ENTER executes cell but stays there\n",
    "- a > new cell ABOVE\n",
    "- b > new cell BELOW\n",
    "- d, d > DELETE cell\n",
    "- m > changes cell to markdown\n",
    "- y > changes cell to python \n",
    "- i,i > stop the code from running!"
   ]
  },
  {
   "cell_type": "code",
   "execution_count": 2,
   "id": "6ccb6cea-bef0-4be8-a4f5-57be0ee8e2e7",
   "metadata": {},
   "outputs": [
    {
     "name": "stdout",
     "output_type": "stream",
     "text": [
      "Hello World!\n"
     ]
    }
   ],
   "source": [
    "print(\"Hello World!\") # this is a comment THE EAGLES WILL WIN 28-21"
   ]
  },
  {
   "cell_type": "code",
   "execution_count": 3,
   "id": "bab5a8de-92aa-4261-9611-d4b354bdff22",
   "metadata": {},
   "outputs": [
    {
     "data": {
      "text/plain": [
       "\u001b[1;31mSignature:\u001b[0m \u001b[0mlen\u001b[0m\u001b[1;33m(\u001b[0m\u001b[0mobj\u001b[0m\u001b[1;33m,\u001b[0m \u001b[1;33m/\u001b[0m\u001b[1;33m)\u001b[0m\u001b[1;33m\u001b[0m\u001b[1;33m\u001b[0m\u001b[0m\n",
       "\u001b[1;31mDocstring:\u001b[0m Return the number of items in a container.\n",
       "\u001b[1;31mType:\u001b[0m      builtin_function_or_method\n"
      ]
     },
     "metadata": {},
     "output_type": "display_data"
    }
   ],
   "source": [
    "len?"
   ]
  },
  {
   "cell_type": "markdown",
   "id": "e074dbc8-3d08-459d-ad39-5b479e38f6d3",
   "metadata": {},
   "source": [
    "## Python Notes\n",
    "\n",
    "- Syntax help for functions:\n",
    "    - If superpowers enabled, often show up automatically\n",
    "    - Else: shift+tab after the \"(\" will usually show it\n",
    "    - JLab's help menu is good!\n",
    "\n",
    "### CLEAR ALL OUTPUT AND RUN ALL CELLS \n",
    "1. to see if code works in sequence\n",
    "1. so that everyone running it gets same outputs\n",
    "1. IF some section of code is incomplete/error, and you can run rest without it, comment that code out.\n"
   ]
  },
  {
   "cell_type": "markdown",
   "id": "675665bb-4727-4765-ba81-cefc2bdb3cb6",
   "metadata": {},
   "source": [
    "### Functions I've learned\n",
    "- print\n",
    "- type > what \"kind\" of object is this"
   ]
  },
  {
   "cell_type": "code",
   "execution_count": 4,
   "id": "4155a170-55d7-4c84-aedf-09ab96953474",
   "metadata": {},
   "outputs": [
    {
     "data": {
      "text/plain": [
       "6"
      ]
     },
     "execution_count": 4,
     "metadata": {},
     "output_type": "execute_result"
    }
   ],
   "source": [
    "# the next few lines, I'll explore arithmetic\n",
    "\n",
    "2+2 # sweet\n",
    "2+1+1+1\n",
    "2-2 # by default, the only \"printed\" output is the last \"objec\"\n",
    "20//3 # \"floor\" division"
   ]
  },
  {
   "cell_type": "code",
   "execution_count": 5,
   "id": "c3867bd9-b489-4d4f-a013-66f855ba42ed",
   "metadata": {},
   "outputs": [
    {
     "name": "stdout",
     "output_type": "stream",
     "text": [
      "4\n",
      "<class 'int'>\n",
      "<class 'float'>\n"
     ]
    }
   ],
   "source": [
    "print(2+2) # print will print, no matter where it is\n",
    "print(type(2-2))\n",
    "print(type(2/3))"
   ]
  },
  {
   "cell_type": "code",
   "execution_count": 6,
   "id": "b93e1057-3690-4437-8b19-d3dae44bf771",
   "metadata": {},
   "outputs": [
    {
     "name": "stdout",
     "output_type": "stream",
     "text": [
      "1\n"
     ]
    },
    {
     "data": {
      "text/plain": [
       "1"
      ]
     },
     "execution_count": 6,
     "metadata": {},
     "output_type": "execute_result"
    }
   ],
   "source": [
    "# math operators\n",
    "\n",
    "2+3      \n",
    "2-1\n",
    "2/3\n",
    "2*3\n",
    "2**3        # 2 to the power of 3\n",
    "print(2^3)  ##### NEVER USE A CARROT!\n",
    "2//3  # floor div\n",
    "4%3   # mod div"
   ]
  },
  {
   "cell_type": "code",
   "execution_count": 7,
   "id": "f995bb7a-084f-41ed-9db3-6bc666daf047",
   "metadata": {},
   "outputs": [
    {
     "name": "stdout",
     "output_type": "stream",
     "text": [
      "127.71666666666667\n",
      "127\n",
      "127\n",
      "128\n"
     ]
    }
   ],
   "source": [
    "# q1 \n",
    "print(7663/60)\n",
    "print(7663//60)           # floor div, I know works\n",
    "print(int(7663/60))\n",
    "print(round(7663/60))"
   ]
  },
  {
   "cell_type": "markdown",
   "id": "f079062a-f74c-4fa4-a55f-3b80c7bd85e5",
   "metadata": {},
   "source": [
    "# q2 time value of money\n",
    "\n",
    "$$ FV = PV * (1+r)^T $$\n"
   ]
  },
  {
   "cell_type": "code",
   "execution_count": 8,
   "id": "0d66a55b-1582-4cee-8c17-7038e83fa183",
   "metadata": {},
   "outputs": [
    {
     "data": {
      "text/plain": [
       "1.9487171000000012"
      ]
     },
     "execution_count": 8,
     "metadata": {},
     "output_type": "execute_result"
    }
   ],
   "source": [
    "1*(1+0.1)**7"
   ]
  },
  {
   "cell_type": "code",
   "execution_count": 9,
   "id": "8dabaa29-167e-4e0e-bd22-7b1790572bdf",
   "metadata": {},
   "outputs": [],
   "source": [
    "# COMPARISONS\n",
    "\n",
    "# == \n",
    "# != \n",
    "# >\n",
    "# >=\n",
    "# <\n",
    "# <=\n",
    "\n",
    "# logic operators\n",
    "# and, or, not\n",
    "\n",
    "# membership operators\n",
    "# in, not in"
   ]
  },
  {
   "cell_type": "markdown",
   "id": "18d48b05-28c9-44f6-ac4c-88454b4bb216",
   "metadata": {},
   "source": [
    "## dot syntax\n",
    "\n",
    "We access objects' **attributes** via a dot, like `dataframe.len`\n",
    "\n",
    "We do **functions** on objects via a dot + function + (), like `dataframe.describe()`"
   ]
  },
  {
   "cell_type": "code",
   "execution_count": 10,
   "id": "57112756-d70e-4861-8257-4567bbf4cf3c",
   "metadata": {},
   "outputs": [],
   "source": [
    "None"
   ]
  },
  {
   "cell_type": "markdown",
   "id": "beee370f-5c2e-42f1-9f09-f4f4aae7c569",
   "metadata": {},
   "source": [
    "## cautionary tales\n",
    "\n",
    "1. `is` is dangerous\n",
    "2. checking for equality with `floats` is not obviously going to work"
   ]
  },
  {
   "cell_type": "markdown",
   "id": "cead52fd-6bba-4745-a9b1-dc2057d102c8",
   "metadata": {},
   "source": [
    "### strings\n",
    "\n",
    "To put a quote inside a quote, start eith a diff kind of quote!"
   ]
  },
  {
   "cell_type": "markdown",
   "id": "3bf6baef-8ec7-46b1-b82b-5f4b3c08c3b1",
   "metadata": {},
   "source": [
    "## data strucs\n",
    "\n",
    "| Type Name | Example                   | Description                            |\n",
    "|-----------|---------------------------|---------------------------------------|\n",
    "| ``list``  | ``[1, 2, 3]``             | Ordered collection                    |\n",
    "| ``tuple`` | ``(1, 2, 3)``             | Immutable ordered collection          |\n",
    "| ``dict``  | ``{'a':1, 'b':2, 'c':3}`` | Unordered (key,value) mapping         |\n",
    "| ``set``   | ``{1, 2, 3}``             | Unordered collection of **unique** values |"
   ]
  },
  {
   "cell_type": "code",
   "execution_count": 11,
   "id": "e1d12928-4f57-4526-8a4e-ea17ba80d752",
   "metadata": {},
   "outputs": [
    {
     "data": {
      "text/plain": [
       "(list, tuple, set)"
      ]
     },
     "execution_count": 11,
     "metadata": {},
     "output_type": "execute_result"
    }
   ],
   "source": [
    "a_list     = [1,2,3] # lists are created with SQUARE brackets\n",
    "not_a_list = (1,2,3)\n",
    "somethin   = {1,2,3} # set!\n",
    "a_dict     = {'a':a_list,   \n",
    "              'b':not_a_list\n",
    "             }\n",
    "\n",
    "type(a_list), type(not_a_list), type(somethin)"
   ]
  },
  {
   "cell_type": "markdown",
   "id": "648d86d2-8535-472e-b6d7-f8339127c631",
   "metadata": {},
   "source": [
    "## THE GOLDEN RULES \n",
    "\n",
    "Following these GOLDEN RULES will save you hours and hours of time.\n",
    "\n",
    "```{tip}\n",
    "The rules below are really golden. How about you copy this page into your class notes repo someplace you can reference them?\n",
    "```\n",
    "\n",
    "| **Category** | **Rule**  |\n",
    "| :--- | :--- |\n",
    "| 0. **PLAN BEFORE YOU CODE** | A. \"Pseudo code\" is writing out the broad steps in plain language. I often (almost always for complicated tasks) do this on paper, then translate it to code as an outline (in the code's comments). <br> <br> Maybe planning sounds boring and like a waste of time. I get it; I also want to [shoot first](https://youtu.be/la7uuFsCIrg?t=43) like [Han did...](https://youtu.be/YtoqDF8EnsA)  but coders like Han often [end up looking like this guy](https://youtu.be/mLyOj_QD4a4?t=67)... |\n",
    "| | B. Break the problem into chunks/smaller problems. Large chunks should be in different script files. Within an individual file that is doing one thing, try to break it down. See rule 3.A and 5.B below too. |\n",
    "| 1. Automation | A. Automate everything that can be automated, don't do point-and-click analysis! |\n",
    "| | B. If the project involves running multiple code files in order, write a single script that executes all code for the project from beginning to end, [like this one.](10_Golden_6.html#part-3-making-replication-easy) |\n",
    "| 2. Version control | A. Store code and data under version control.  |\n",
    "| | B. [Use the Github workflow!](../01/03a_githubworkflow) | \n",
    "| | C. **Before checking the directory back in, clear all outputs, delete temp files, and then run the whole directory to make sure the outputs reproduce!** (Check: Did it work right?) <br> <br> [If the project uses notebook files, always look to see if the first executed code block has \"[1]\" next to it and that all the subsequent code blocks are numbered consecutively.](../01/06_python.html?highlight=golden#clear-output-and-rerun-from-the-start)   |\n",
    "| 3.  [Organizing folders](10_Golden_6) | A. Separate  folders/directories and files by function |\n",
    "| | B. Put input files into an input folder and outputs into a different folder  |\n",
    "| | A + B = your folders and files will be largely self-documenting |\n",
    "| | C. Make directories portable - they should run on any computer, or if you move them to another place on your computer. See the next rule. |\n",
    "| | D [**Use RELATIVE FILE PATHS, not absolute file paths**](10_Golden_7)  ⭐ ⭐ |\n",
    "| 4. [Data](10_Golden_4) | A. Store cleaned data in tables with unique, non-missing \"keys\" |\n",
    "| | B. Keep data normalized as far into your code pipeline as you can |\n",
    "| 5. [Functions](10_Golden_5a) | A. Write functions to eliminate redundancy |\n",
    "| | B. Write functions to improve clarity |\n",
    "| | C. Otherwise, don't write functions |\n",
    "| | D. **Test your functions!** Use small examples where you know the right answers, and try variations to see if the function breaks in some cases.   |\n",
    "| 6. [Documentation and comments](10_Golden_5b) | A. Is good... to a point |\n",
    "| | B. Don't write documentation you will not maintain |\n",
    "| | C. Code is better off when it is self-documenting |\n",
    "| 7. [Writing code](10_Golden_8) | A. Don't use magic numbers, define once as variables and refer as needed |\n",
    "| | B. Write DRY code: Don't Repeat Yourself! See rule 5.A. |\n",
    "| | C. Premature optimization (for speed) is the root of all evil. | \n",
    "| | D. Use self-documenting variable and function names. | \n",
    "| 8. Look at your data/objects | As discussed [here](../01/07_debugging.html#seriously-print-your-data-and-objects-often) and many other places. <br> <br> **ABCD = Always Be Checking your Data!** | \n"
   ]
  }
 ],
 "metadata": {
  "kernelspec": {
   "display_name": "Python 3 (ipykernel)",
   "language": "python",
   "name": "python3"
  },
  "language_info": {
   "codemirror_mode": {
    "name": "ipython",
    "version": 3
   },
   "file_extension": ".py",
   "mimetype": "text/x-python",
   "name": "python",
   "nbconvert_exporter": "python",
   "pygments_lexer": "ipython3",
   "version": "3.8.16"
  }
 },
 "nbformat": 4,
 "nbformat_minor": 5
}
